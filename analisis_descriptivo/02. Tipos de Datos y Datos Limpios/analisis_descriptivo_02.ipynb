{
  "nbformat": 4,
  "nbformat_minor": 0,
  "metadata": {
    "colab": {
      "name": "analisis_descriptivo_02.ipynb",
      "provenance": [],
      "collapsed_sections": []
    },
    "kernelspec": {
      "name": "python3",
      "display_name": "Python 3"
    }
  },
  "cells": [
    {
      "cell_type": "code",
      "metadata": {
        "id": "FISBN49j2wrZ",
        "colab_type": "code",
        "colab": {}
      },
      "source": [
        "# Importamos las librerias correspondientes\n",
        "import pandas as pd\n",
        "import numpy as np\n"
      ],
      "execution_count": 1,
      "outputs": []
    },
    {
      "cell_type": "markdown",
      "metadata": {
        "id": "-tZWh0SjjHla",
        "colab_type": "text"
      },
      "source": [
        "# Ejemplo de Tipos de Datos usado en Clase:\n"
      ]
    },
    {
      "cell_type": "code",
      "metadata": {
        "id": "eOrHC-xljRiA",
        "colab_type": "code",
        "colab": {
          "base_uri": "https://localhost:8080/",
          "height": 238
        },
        "outputId": "9625cf46-3fdc-4345-a7a4-940ed96d12f9"
      },
      "source": [
        "# Creamps un pandas o dataframe\n",
        "sabor = ['naranja', 'naranja', 'naranja', 'limon', 'limon', 'manzana']\n",
        "precio = [15, 20, 15, 10, 15, 15]\n",
        "tamano = ['individual', 'familiar', 'individual', 'individual', 'familiar', 'individual']\n",
        "df = pd.DataFrame.from_dict({'sabor':sabor, 'tamano':tamano, 'precio':precio})\n",
        "df"
      ],
      "execution_count": 2,
      "outputs": [
        {
          "output_type": "execute_result",
          "data": {
            "text/html": [
              "<div>\n",
              "<style scoped>\n",
              "    .dataframe tbody tr th:only-of-type {\n",
              "        vertical-align: middle;\n",
              "    }\n",
              "\n",
              "    .dataframe tbody tr th {\n",
              "        vertical-align: top;\n",
              "    }\n",
              "\n",
              "    .dataframe thead th {\n",
              "        text-align: right;\n",
              "    }\n",
              "</style>\n",
              "<table border=\"1\" class=\"dataframe\">\n",
              "  <thead>\n",
              "    <tr style=\"text-align: right;\">\n",
              "      <th></th>\n",
              "      <th>sabor</th>\n",
              "      <th>tamano</th>\n",
              "      <th>precio</th>\n",
              "    </tr>\n",
              "  </thead>\n",
              "  <tbody>\n",
              "    <tr>\n",
              "      <th>0</th>\n",
              "      <td>naranja</td>\n",
              "      <td>individual</td>\n",
              "      <td>15</td>\n",
              "    </tr>\n",
              "    <tr>\n",
              "      <th>1</th>\n",
              "      <td>naranja</td>\n",
              "      <td>familiar</td>\n",
              "      <td>20</td>\n",
              "    </tr>\n",
              "    <tr>\n",
              "      <th>2</th>\n",
              "      <td>naranja</td>\n",
              "      <td>individual</td>\n",
              "      <td>15</td>\n",
              "    </tr>\n",
              "    <tr>\n",
              "      <th>3</th>\n",
              "      <td>limon</td>\n",
              "      <td>individual</td>\n",
              "      <td>10</td>\n",
              "    </tr>\n",
              "    <tr>\n",
              "      <th>4</th>\n",
              "      <td>limon</td>\n",
              "      <td>familiar</td>\n",
              "      <td>15</td>\n",
              "    </tr>\n",
              "    <tr>\n",
              "      <th>5</th>\n",
              "      <td>manzana</td>\n",
              "      <td>individual</td>\n",
              "      <td>15</td>\n",
              "    </tr>\n",
              "  </tbody>\n",
              "</table>\n",
              "</div>"
            ],
            "text/plain": [
              "     sabor      tamano  precio\n",
              "0  naranja  individual      15\n",
              "1  naranja    familiar      20\n",
              "2  naranja  individual      15\n",
              "3    limon  individual      10\n",
              "4    limon    familiar      15\n",
              "5  manzana  individual      15"
            ]
          },
          "metadata": {
            "tags": []
          },
          "execution_count": 2
        }
      ]
    },
    {
      "cell_type": "code",
      "metadata": {
        "id": "D4DhZPehjSM8",
        "colab_type": "code",
        "colab": {
          "base_uri": "https://localhost:8080/",
          "height": 238
        },
        "outputId": "2637aaf2-c0e3-4e99-a5c8-14cfe4c0a90f"
      },
      "source": [
        "# Creamos dos tipos de encoding\n",
        "encoding_1 = {'naranja':1, 'limon':2, 'manzana':3}\n",
        "encoding_2 = {'naranja':1000, 'limon':2, 'manzana':-503}\n",
        "\n",
        "# replace es un metodo que puede recibir un diccionario con las codificaciones a realizar\n",
        "df['sabor_1'] = df['sabor'].replace(encoding_1)\n",
        "df['sabor_2'] = df['sabor'].replace(encoding_2)\n",
        "df"
      ],
      "execution_count": 3,
      "outputs": [
        {
          "output_type": "execute_result",
          "data": {
            "text/html": [
              "<div>\n",
              "<style scoped>\n",
              "    .dataframe tbody tr th:only-of-type {\n",
              "        vertical-align: middle;\n",
              "    }\n",
              "\n",
              "    .dataframe tbody tr th {\n",
              "        vertical-align: top;\n",
              "    }\n",
              "\n",
              "    .dataframe thead th {\n",
              "        text-align: right;\n",
              "    }\n",
              "</style>\n",
              "<table border=\"1\" class=\"dataframe\">\n",
              "  <thead>\n",
              "    <tr style=\"text-align: right;\">\n",
              "      <th></th>\n",
              "      <th>sabor</th>\n",
              "      <th>tamano</th>\n",
              "      <th>precio</th>\n",
              "      <th>sabor_1</th>\n",
              "      <th>sabor_2</th>\n",
              "    </tr>\n",
              "  </thead>\n",
              "  <tbody>\n",
              "    <tr>\n",
              "      <th>0</th>\n",
              "      <td>naranja</td>\n",
              "      <td>individual</td>\n",
              "      <td>15</td>\n",
              "      <td>1</td>\n",
              "      <td>1000</td>\n",
              "    </tr>\n",
              "    <tr>\n",
              "      <th>1</th>\n",
              "      <td>naranja</td>\n",
              "      <td>familiar</td>\n",
              "      <td>20</td>\n",
              "      <td>1</td>\n",
              "      <td>1000</td>\n",
              "    </tr>\n",
              "    <tr>\n",
              "      <th>2</th>\n",
              "      <td>naranja</td>\n",
              "      <td>individual</td>\n",
              "      <td>15</td>\n",
              "      <td>1</td>\n",
              "      <td>1000</td>\n",
              "    </tr>\n",
              "    <tr>\n",
              "      <th>3</th>\n",
              "      <td>limon</td>\n",
              "      <td>individual</td>\n",
              "      <td>10</td>\n",
              "      <td>2</td>\n",
              "      <td>2</td>\n",
              "    </tr>\n",
              "    <tr>\n",
              "      <th>4</th>\n",
              "      <td>limon</td>\n",
              "      <td>familiar</td>\n",
              "      <td>15</td>\n",
              "      <td>2</td>\n",
              "      <td>2</td>\n",
              "    </tr>\n",
              "    <tr>\n",
              "      <th>5</th>\n",
              "      <td>manzana</td>\n",
              "      <td>individual</td>\n",
              "      <td>15</td>\n",
              "      <td>3</td>\n",
              "      <td>-503</td>\n",
              "    </tr>\n",
              "  </tbody>\n",
              "</table>\n",
              "</div>"
            ],
            "text/plain": [
              "     sabor      tamano  precio  sabor_1  sabor_2\n",
              "0  naranja  individual      15        1     1000\n",
              "1  naranja    familiar      20        1     1000\n",
              "2  naranja  individual      15        1     1000\n",
              "3    limon  individual      10        2        2\n",
              "4    limon    familiar      15        2        2\n",
              "5  manzana  individual      15        3     -503"
            ]
          },
          "metadata": {
            "tags": []
          },
          "execution_count": 3
        }
      ]
    },
    {
      "cell_type": "code",
      "metadata": {
        "id": "ME3g7K1rjU0Y",
        "colab_type": "code",
        "colab": {
          "base_uri": "https://localhost:8080/",
          "height": 52
        },
        "outputId": "82a58c20-c094-4187-ee4b-ee51768b8cec"
      },
      "source": [
        "# Medias con diferentes encodings\n",
        "print('Media con Primer Encoding: ' , df['sabor_1'].mean())\n",
        "print('Media con Segundo Encoding: ' , df['sabor_2'].mean())"
      ],
      "execution_count": 4,
      "outputs": [
        {
          "output_type": "stream",
          "text": [
            "Media con Primer Encoding:  1.6666666666666667\n",
            "Media con Segundo Encoding:  416.8333333333333\n"
          ],
          "name": "stdout"
        }
      ]
    },
    {
      "cell_type": "code",
      "metadata": {
        "id": "RgXB1UlujWdJ",
        "colab_type": "code",
        "colab": {
          "base_uri": "https://localhost:8080/",
          "height": 159
        },
        "outputId": "09de06fb-62f8-4c1c-f771-e527bf6a0f8d"
      },
      "source": [
        "# La frecuencia se mantiene constante\n",
        "print(df.groupby(['sabor'])['sabor_1', 'sabor_2'].count())"
      ],
      "execution_count": 5,
      "outputs": [
        {
          "output_type": "stream",
          "text": [
            "         sabor_1  sabor_2\n",
            "sabor                    \n",
            "limon          2        2\n",
            "manzana        1        1\n",
            "naranja        3        3\n"
          ],
          "name": "stdout"
        },
        {
          "output_type": "stream",
          "text": [
            "/usr/local/lib/python3.6/dist-packages/ipykernel_launcher.py:2: FutureWarning: Indexing with multiple keys (implicitly converted to a tuple of keys) will be deprecated, use a list instead.\n",
            "  \n"
          ],
          "name": "stderr"
        }
      ]
    },
    {
      "cell_type": "code",
      "metadata": {
        "id": "trDceWc8jYv6",
        "colab_type": "code",
        "colab": {
          "base_uri": "https://localhost:8080/",
          "height": 238
        },
        "outputId": "96719801-b31d-47fa-fb2a-e23fdbc96a95"
      },
      "source": [
        "# Creamos dos tipos de encoding para variables ordinales\n",
        "encoding_1 = {'individual':0, 'familiar':1}\n",
        "encoding_2 = {'individual':-1, 'familiar':-2}\n",
        "\n",
        "# replace es un metodo que puede recibir un diccionario con las codificaciones a realizar\n",
        "df['tamano_1'] = df['tamano'].replace(encoding_1)\n",
        "df['tamano_2'] = df['tamano'].replace(encoding_2)\n",
        "df[['sabor', 'tamano', 'precio', 'tamano_1', 'tamano_2']] "
      ],
      "execution_count": 6,
      "outputs": [
        {
          "output_type": "execute_result",
          "data": {
            "text/html": [
              "<div>\n",
              "<style scoped>\n",
              "    .dataframe tbody tr th:only-of-type {\n",
              "        vertical-align: middle;\n",
              "    }\n",
              "\n",
              "    .dataframe tbody tr th {\n",
              "        vertical-align: top;\n",
              "    }\n",
              "\n",
              "    .dataframe thead th {\n",
              "        text-align: right;\n",
              "    }\n",
              "</style>\n",
              "<table border=\"1\" class=\"dataframe\">\n",
              "  <thead>\n",
              "    <tr style=\"text-align: right;\">\n",
              "      <th></th>\n",
              "      <th>sabor</th>\n",
              "      <th>tamano</th>\n",
              "      <th>precio</th>\n",
              "      <th>tamano_1</th>\n",
              "      <th>tamano_2</th>\n",
              "    </tr>\n",
              "  </thead>\n",
              "  <tbody>\n",
              "    <tr>\n",
              "      <th>0</th>\n",
              "      <td>naranja</td>\n",
              "      <td>individual</td>\n",
              "      <td>15</td>\n",
              "      <td>0</td>\n",
              "      <td>-1</td>\n",
              "    </tr>\n",
              "    <tr>\n",
              "      <th>1</th>\n",
              "      <td>naranja</td>\n",
              "      <td>familiar</td>\n",
              "      <td>20</td>\n",
              "      <td>1</td>\n",
              "      <td>-2</td>\n",
              "    </tr>\n",
              "    <tr>\n",
              "      <th>2</th>\n",
              "      <td>naranja</td>\n",
              "      <td>individual</td>\n",
              "      <td>15</td>\n",
              "      <td>0</td>\n",
              "      <td>-1</td>\n",
              "    </tr>\n",
              "    <tr>\n",
              "      <th>3</th>\n",
              "      <td>limon</td>\n",
              "      <td>individual</td>\n",
              "      <td>10</td>\n",
              "      <td>0</td>\n",
              "      <td>-1</td>\n",
              "    </tr>\n",
              "    <tr>\n",
              "      <th>4</th>\n",
              "      <td>limon</td>\n",
              "      <td>familiar</td>\n",
              "      <td>15</td>\n",
              "      <td>1</td>\n",
              "      <td>-2</td>\n",
              "    </tr>\n",
              "    <tr>\n",
              "      <th>5</th>\n",
              "      <td>manzana</td>\n",
              "      <td>individual</td>\n",
              "      <td>15</td>\n",
              "      <td>0</td>\n",
              "      <td>-1</td>\n",
              "    </tr>\n",
              "  </tbody>\n",
              "</table>\n",
              "</div>"
            ],
            "text/plain": [
              "     sabor      tamano  precio  tamano_1  tamano_2\n",
              "0  naranja  individual      15         0        -1\n",
              "1  naranja    familiar      20         1        -2\n",
              "2  naranja  individual      15         0        -1\n",
              "3    limon  individual      10         0        -1\n",
              "4    limon    familiar      15         1        -2\n",
              "5  manzana  individual      15         0        -1"
            ]
          },
          "metadata": {
            "tags": []
          },
          "execution_count": 6
        }
      ]
    },
    {
      "cell_type": "code",
      "metadata": {
        "id": "0DnNEz5-jaGl",
        "colab_type": "code",
        "colab": {
          "base_uri": "https://localhost:8080/",
          "height": 52
        },
        "outputId": "26876387-922c-4ce2-f521-8c81e9aa892d"
      },
      "source": [
        "# Medias con diferentes encodings para tamano\n",
        "print('Media con Primer Encoding: ' , df['tamano_1'].mean())\n",
        "print('Media con Segundo Encoding: ' , df['tamano_2'].mean())"
      ],
      "execution_count": 7,
      "outputs": [
        {
          "output_type": "stream",
          "text": [
            "Media con Primer Encoding:  0.3333333333333333\n",
            "Media con Segundo Encoding:  -1.3333333333333333\n"
          ],
          "name": "stdout"
        }
      ]
    },
    {
      "cell_type": "code",
      "metadata": {
        "id": "XFHhTbKPjbL9",
        "colab_type": "code",
        "colab": {
          "base_uri": "https://localhost:8080/",
          "height": 141
        },
        "outputId": "d56e0ac9-835b-4cc2-caae-4de06d556d62"
      },
      "source": [
        "# La frecuencia se mantiene constante\n",
        "print(df.groupby(['tamano'])['tamano_1', 'tamano_2'].count())"
      ],
      "execution_count": 8,
      "outputs": [
        {
          "output_type": "stream",
          "text": [
            "            tamano_1  tamano_2\n",
            "tamano                        \n",
            "familiar           2         2\n",
            "individual         4         4\n"
          ],
          "name": "stdout"
        },
        {
          "output_type": "stream",
          "text": [
            "/usr/local/lib/python3.6/dist-packages/ipykernel_launcher.py:2: FutureWarning: Indexing with multiple keys (implicitly converted to a tuple of keys) will be deprecated, use a list instead.\n",
            "  \n"
          ],
          "name": "stderr"
        }
      ]
    },
    {
      "cell_type": "markdown",
      "metadata": {
        "id": "olDz9ju3j19m",
        "colab_type": "text"
      },
      "source": [
        "# Tarea: Cual de los siguientes encodings es valido?"
      ]
    },
    {
      "cell_type": "code",
      "metadata": {
        "id": "Z44ZnDJIj0fT",
        "colab_type": "code",
        "colab": {
          "base_uri": "https://localhost:8080/",
          "height": 238
        },
        "outputId": "4ce54341-136a-476e-f56a-0b7ff3f650c9"
      },
      "source": [
        "# Creamos dos tipos de encoding\n",
        "encoding_a = {'naranja':1, 'limon':1000, 'manzana':300}\n",
        "encoding_b = {'naranja':1000, 'limon':1, 'manzana':1}\n",
        "\n",
        "# replace es un metodo que puede recibir un diccionario con las codificaciones a realizar\n",
        "df['sabor_a'] = df['sabor'].replace(encoding_a)\n",
        "df['sabor_b'] = df['sabor'].replace(encoding_b)\n",
        "df[['sabor', 'sabor_a', 'sabor_b']]"
      ],
      "execution_count": 17,
      "outputs": [
        {
          "output_type": "execute_result",
          "data": {
            "text/html": [
              "<div>\n",
              "<style scoped>\n",
              "    .dataframe tbody tr th:only-of-type {\n",
              "        vertical-align: middle;\n",
              "    }\n",
              "\n",
              "    .dataframe tbody tr th {\n",
              "        vertical-align: top;\n",
              "    }\n",
              "\n",
              "    .dataframe thead th {\n",
              "        text-align: right;\n",
              "    }\n",
              "</style>\n",
              "<table border=\"1\" class=\"dataframe\">\n",
              "  <thead>\n",
              "    <tr style=\"text-align: right;\">\n",
              "      <th></th>\n",
              "      <th>sabor</th>\n",
              "      <th>tamano</th>\n",
              "      <th>precio</th>\n",
              "      <th>sabor_1</th>\n",
              "      <th>sabor_2</th>\n",
              "      <th>tamano_1</th>\n",
              "      <th>tamano_2</th>\n",
              "      <th>sabor_a</th>\n",
              "      <th>sabor_b</th>\n",
              "    </tr>\n",
              "  </thead>\n",
              "  <tbody>\n",
              "    <tr>\n",
              "      <th>0</th>\n",
              "      <td>naranja</td>\n",
              "      <td>individual</td>\n",
              "      <td>15</td>\n",
              "      <td>1</td>\n",
              "      <td>1000</td>\n",
              "      <td>0</td>\n",
              "      <td>-1</td>\n",
              "      <td>1</td>\n",
              "      <td>1000</td>\n",
              "    </tr>\n",
              "    <tr>\n",
              "      <th>1</th>\n",
              "      <td>naranja</td>\n",
              "      <td>familiar</td>\n",
              "      <td>20</td>\n",
              "      <td>1</td>\n",
              "      <td>1000</td>\n",
              "      <td>1</td>\n",
              "      <td>-2</td>\n",
              "      <td>1</td>\n",
              "      <td>1000</td>\n",
              "    </tr>\n",
              "    <tr>\n",
              "      <th>2</th>\n",
              "      <td>naranja</td>\n",
              "      <td>individual</td>\n",
              "      <td>15</td>\n",
              "      <td>1</td>\n",
              "      <td>1000</td>\n",
              "      <td>0</td>\n",
              "      <td>-1</td>\n",
              "      <td>1</td>\n",
              "      <td>1000</td>\n",
              "    </tr>\n",
              "    <tr>\n",
              "      <th>3</th>\n",
              "      <td>limon</td>\n",
              "      <td>individual</td>\n",
              "      <td>10</td>\n",
              "      <td>2</td>\n",
              "      <td>2</td>\n",
              "      <td>0</td>\n",
              "      <td>-1</td>\n",
              "      <td>1000</td>\n",
              "      <td>1</td>\n",
              "    </tr>\n",
              "    <tr>\n",
              "      <th>4</th>\n",
              "      <td>limon</td>\n",
              "      <td>familiar</td>\n",
              "      <td>15</td>\n",
              "      <td>2</td>\n",
              "      <td>2</td>\n",
              "      <td>1</td>\n",
              "      <td>-2</td>\n",
              "      <td>1000</td>\n",
              "      <td>1</td>\n",
              "    </tr>\n",
              "    <tr>\n",
              "      <th>5</th>\n",
              "      <td>manzana</td>\n",
              "      <td>individual</td>\n",
              "      <td>15</td>\n",
              "      <td>3</td>\n",
              "      <td>-503</td>\n",
              "      <td>0</td>\n",
              "      <td>-1</td>\n",
              "      <td>300</td>\n",
              "      <td>1</td>\n",
              "    </tr>\n",
              "  </tbody>\n",
              "</table>\n",
              "</div>"
            ],
            "text/plain": [
              "     sabor      tamano  precio  sabor_1  ...  tamano_1  tamano_2  sabor_a  sabor_b\n",
              "0  naranja  individual      15        1  ...         0        -1        1     1000\n",
              "1  naranja    familiar      20        1  ...         1        -2        1     1000\n",
              "2  naranja  individual      15        1  ...         0        -1        1     1000\n",
              "3    limon  individual      10        2  ...         0        -1     1000        1\n",
              "4    limon    familiar      15        2  ...         1        -2     1000        1\n",
              "5  manzana  individual      15        3  ...         0        -1      300        1\n",
              "\n",
              "[6 rows x 9 columns]"
            ]
          },
          "metadata": {
            "tags": []
          },
          "execution_count": 17
        }
      ]
    },
    {
      "cell_type": "code",
      "metadata": {
        "id": "p7qcP84jkPYI",
        "colab_type": "code",
        "colab": {
          "base_uri": "https://localhost:8080/",
          "height": 281
        },
        "outputId": "85f0fd7d-99c0-4b17-919c-32e7debefb16"
      },
      "source": [
        "# Creamos dos tipos de encoding para variables ordinales\n",
        "encoding_x = {'individual':-10, 'familiar':10}\n",
        "encoding_y = {'individual':-50, 'familiar':100}\n",
        "\n",
        "# replace es un metodo que puede recibir un diccionario con las codificaciones a realizar\n",
        "df['tamano_x'] = df['tamano'].replace(encoding_x)\n",
        "df['tamano_y'] = df['tamano'].replace(encoding_y)\n",
        "df[['tamano', 'tamano_x', 'tamano_y']] "
      ],
      "execution_count": 19,
      "outputs": [
        {
          "output_type": "execute_result",
          "data": {
            "text/html": [
              "<div>\n",
              "<style scoped>\n",
              "    .dataframe tbody tr th:only-of-type {\n",
              "        vertical-align: middle;\n",
              "    }\n",
              "\n",
              "    .dataframe tbody tr th {\n",
              "        vertical-align: top;\n",
              "    }\n",
              "\n",
              "    .dataframe thead th {\n",
              "        text-align: right;\n",
              "    }\n",
              "</style>\n",
              "<table border=\"1\" class=\"dataframe\">\n",
              "  <thead>\n",
              "    <tr style=\"text-align: right;\">\n",
              "      <th></th>\n",
              "      <th>tamano</th>\n",
              "      <th>tamano_x</th>\n",
              "      <th>tamano_y</th>\n",
              "    </tr>\n",
              "  </thead>\n",
              "  <tbody>\n",
              "    <tr>\n",
              "      <th>0</th>\n",
              "      <td>individual</td>\n",
              "      <td>-10</td>\n",
              "      <td>-50</td>\n",
              "    </tr>\n",
              "    <tr>\n",
              "      <th>1</th>\n",
              "      <td>familiar</td>\n",
              "      <td>10</td>\n",
              "      <td>100</td>\n",
              "    </tr>\n",
              "    <tr>\n",
              "      <th>2</th>\n",
              "      <td>individual</td>\n",
              "      <td>-10</td>\n",
              "      <td>-50</td>\n",
              "    </tr>\n",
              "    <tr>\n",
              "      <th>3</th>\n",
              "      <td>individual</td>\n",
              "      <td>-10</td>\n",
              "      <td>-50</td>\n",
              "    </tr>\n",
              "    <tr>\n",
              "      <th>4</th>\n",
              "      <td>familiar</td>\n",
              "      <td>10</td>\n",
              "      <td>100</td>\n",
              "    </tr>\n",
              "    <tr>\n",
              "      <th>5</th>\n",
              "      <td>individual</td>\n",
              "      <td>-10</td>\n",
              "      <td>-50</td>\n",
              "    </tr>\n",
              "  </tbody>\n",
              "</table>\n",
              "</div>"
            ],
            "text/plain": [
              "       tamano  tamano_x  tamano_y\n",
              "0  individual       -10       -50\n",
              "1    familiar        10       100\n",
              "2  individual       -10       -50\n",
              "3  individual       -10       -50\n",
              "4    familiar        10       100\n",
              "5  individual       -10       -50"
            ]
          },
          "metadata": {
            "tags": []
          },
          "execution_count": 19
        }
      ]
    },
    {
      "cell_type": "markdown",
      "metadata": {
        "id": "8ttYn69MNuBc",
        "colab_type": "text"
      },
      "source": [
        "# Ejemplo de Tidy Data usado enClase:\n"
      ]
    },
    {
      "cell_type": "code",
      "metadata": {
        "id": "blQRWtYE25zu",
        "colab_type": "code",
        "colab": {
          "base_uri": "https://localhost:8080/",
          "height": 244
        },
        "outputId": "041c3b9c-b78f-46b1-b88a-a1827f08c380"
      },
      "source": [
        "# Estructura 1\n",
        "nombre = ['Fernando', 'Alfonso', 'Santiago', 'Lili', 'Rosalia']\n",
        "tratamiento_a = [25, 5, 6, 89, 10]\n",
        "tratamiento_b = [0, 17, 15, 7, 9]\n",
        "\n",
        "data_dict_1 = {\n",
        "    'paciente':nombre,\n",
        "    'tratamiento_a':tratamiento_a,\n",
        "    'tratamiento_b': tratamiento_b\n",
        "}\n",
        "\n",
        "df_1 = pd.DataFrame.from_dict(data_dict_1)\n",
        "\n",
        "df_1.head()"
      ],
      "execution_count": 9,
      "outputs": [
        {
          "output_type": "execute_result",
          "data": {
            "text/html": [
              "<div>\n",
              "<style scoped>\n",
              "    .dataframe tbody tr th:only-of-type {\n",
              "        vertical-align: middle;\n",
              "    }\n",
              "\n",
              "    .dataframe tbody tr th {\n",
              "        vertical-align: top;\n",
              "    }\n",
              "\n",
              "    .dataframe thead th {\n",
              "        text-align: right;\n",
              "    }\n",
              "</style>\n",
              "<table border=\"1\" class=\"dataframe\">\n",
              "  <thead>\n",
              "    <tr style=\"text-align: right;\">\n",
              "      <th></th>\n",
              "      <th>paciente</th>\n",
              "      <th>tratamiento_a</th>\n",
              "      <th>tratamiento_b</th>\n",
              "    </tr>\n",
              "  </thead>\n",
              "  <tbody>\n",
              "    <tr>\n",
              "      <th>0</th>\n",
              "      <td>Fernando</td>\n",
              "      <td>25</td>\n",
              "      <td>0</td>\n",
              "    </tr>\n",
              "    <tr>\n",
              "      <th>1</th>\n",
              "      <td>Alfonso</td>\n",
              "      <td>5</td>\n",
              "      <td>17</td>\n",
              "    </tr>\n",
              "    <tr>\n",
              "      <th>2</th>\n",
              "      <td>Santiago</td>\n",
              "      <td>6</td>\n",
              "      <td>15</td>\n",
              "    </tr>\n",
              "    <tr>\n",
              "      <th>3</th>\n",
              "      <td>Lili</td>\n",
              "      <td>89</td>\n",
              "      <td>7</td>\n",
              "    </tr>\n",
              "    <tr>\n",
              "      <th>4</th>\n",
              "      <td>Rosalia</td>\n",
              "      <td>10</td>\n",
              "      <td>9</td>\n",
              "    </tr>\n",
              "  </tbody>\n",
              "</table>\n",
              "</div>"
            ],
            "text/plain": [
              "   paciente  tratamiento_a  tratamiento_b\n",
              "0  Fernando             25              0\n",
              "1   Alfonso              5             17\n",
              "2  Santiago              6             15\n",
              "3      Lili             89              7\n",
              "4   Rosalia             10              9"
            ]
          },
          "metadata": {
            "tags": []
          },
          "execution_count": 9
        }
      ]
    },
    {
      "cell_type": "code",
      "metadata": {
        "id": "a7EYALKe9Ppc",
        "colab_type": "code",
        "colab": {
          "base_uri": "https://localhost:8080/",
          "height": 131
        },
        "outputId": "58b5ca1e-2db9-4be2-a922-cae00f52a64b"
      },
      "source": [
        "# Estructura 2\n",
        "tratamiento= ['tratamiento_a', 'tratamiento_b']\n",
        "fernando = [25,0]\n",
        "alfonso = [5,17]\n",
        "santiago = [6,15]\n",
        "lili = [89, 7]\n",
        "rosalia = [10,9]\n",
        "\n",
        "data_dict_2 = {\n",
        "    'tratamiento':tratamiento,\n",
        "    'Fernando':fernando,\n",
        "    'Alfonso': alfonso,\n",
        "    'Santiago':santiago,\n",
        "    'Lili': lili,\n",
        "    'Rosalia':rosalia\n",
        "}\n",
        "\n",
        "df_2 = pd.DataFrame.from_dict(data_dict_2)\n",
        "df_2.head()\n"
      ],
      "execution_count": 10,
      "outputs": [
        {
          "output_type": "execute_result",
          "data": {
            "text/html": [
              "<div>\n",
              "<style scoped>\n",
              "    .dataframe tbody tr th:only-of-type {\n",
              "        vertical-align: middle;\n",
              "    }\n",
              "\n",
              "    .dataframe tbody tr th {\n",
              "        vertical-align: top;\n",
              "    }\n",
              "\n",
              "    .dataframe thead th {\n",
              "        text-align: right;\n",
              "    }\n",
              "</style>\n",
              "<table border=\"1\" class=\"dataframe\">\n",
              "  <thead>\n",
              "    <tr style=\"text-align: right;\">\n",
              "      <th></th>\n",
              "      <th>tratamiento</th>\n",
              "      <th>Fernando</th>\n",
              "      <th>Alfonso</th>\n",
              "      <th>Santiago</th>\n",
              "      <th>Lili</th>\n",
              "      <th>Rosalia</th>\n",
              "    </tr>\n",
              "  </thead>\n",
              "  <tbody>\n",
              "    <tr>\n",
              "      <th>0</th>\n",
              "      <td>tratamiento_a</td>\n",
              "      <td>25</td>\n",
              "      <td>5</td>\n",
              "      <td>6</td>\n",
              "      <td>89</td>\n",
              "      <td>10</td>\n",
              "    </tr>\n",
              "    <tr>\n",
              "      <th>1</th>\n",
              "      <td>tratamiento_b</td>\n",
              "      <td>0</td>\n",
              "      <td>17</td>\n",
              "      <td>15</td>\n",
              "      <td>7</td>\n",
              "      <td>9</td>\n",
              "    </tr>\n",
              "  </tbody>\n",
              "</table>\n",
              "</div>"
            ],
            "text/plain": [
              "     tratamiento  Fernando  Alfonso  Santiago  Lili  Rosalia\n",
              "0  tratamiento_a        25        5         6    89       10\n",
              "1  tratamiento_b         0       17        15     7        9"
            ]
          },
          "metadata": {
            "tags": []
          },
          "execution_count": 10
        }
      ]
    },
    {
      "cell_type": "code",
      "metadata": {
        "id": "17kapcvUAGq_",
        "colab_type": "code",
        "colab": {
          "base_uri": "https://localhost:8080/",
          "height": 432
        },
        "outputId": "93b5fabf-cc2a-42b1-ddab-1ae2c39d6779"
      },
      "source": [
        "# Estructura 3 (datos tidy)\n",
        "'''\n",
        "Si no estas familiarizado con la funcion melt de pandas te invito a jugar un poco\n",
        "con ella para enterla bien y consultar su documentacion.\n",
        "'''\n",
        "df_3 = pd.melt(df_1, id_vars=['paciente'], value_vars=['tratamiento_a', \n",
        "                                                       'tratamiento_b'])\n",
        "df_3.rename(columns={'variable':'tratamiento', 'value':'resultado'}, \n",
        "            inplace=True)\n",
        "df_3"
      ],
      "execution_count": 11,
      "outputs": [
        {
          "output_type": "execute_result",
          "data": {
            "text/html": [
              "<div>\n",
              "<style scoped>\n",
              "    .dataframe tbody tr th:only-of-type {\n",
              "        vertical-align: middle;\n",
              "    }\n",
              "\n",
              "    .dataframe tbody tr th {\n",
              "        vertical-align: top;\n",
              "    }\n",
              "\n",
              "    .dataframe thead th {\n",
              "        text-align: right;\n",
              "    }\n",
              "</style>\n",
              "<table border=\"1\" class=\"dataframe\">\n",
              "  <thead>\n",
              "    <tr style=\"text-align: right;\">\n",
              "      <th></th>\n",
              "      <th>paciente</th>\n",
              "      <th>tratamiento</th>\n",
              "      <th>resultado</th>\n",
              "    </tr>\n",
              "  </thead>\n",
              "  <tbody>\n",
              "    <tr>\n",
              "      <th>0</th>\n",
              "      <td>Fernando</td>\n",
              "      <td>tratamiento_a</td>\n",
              "      <td>25</td>\n",
              "    </tr>\n",
              "    <tr>\n",
              "      <th>1</th>\n",
              "      <td>Alfonso</td>\n",
              "      <td>tratamiento_a</td>\n",
              "      <td>5</td>\n",
              "    </tr>\n",
              "    <tr>\n",
              "      <th>2</th>\n",
              "      <td>Santiago</td>\n",
              "      <td>tratamiento_a</td>\n",
              "      <td>6</td>\n",
              "    </tr>\n",
              "    <tr>\n",
              "      <th>3</th>\n",
              "      <td>Lili</td>\n",
              "      <td>tratamiento_a</td>\n",
              "      <td>89</td>\n",
              "    </tr>\n",
              "    <tr>\n",
              "      <th>4</th>\n",
              "      <td>Rosalia</td>\n",
              "      <td>tratamiento_a</td>\n",
              "      <td>10</td>\n",
              "    </tr>\n",
              "    <tr>\n",
              "      <th>5</th>\n",
              "      <td>Fernando</td>\n",
              "      <td>tratamiento_b</td>\n",
              "      <td>0</td>\n",
              "    </tr>\n",
              "    <tr>\n",
              "      <th>6</th>\n",
              "      <td>Alfonso</td>\n",
              "      <td>tratamiento_b</td>\n",
              "      <td>17</td>\n",
              "    </tr>\n",
              "    <tr>\n",
              "      <th>7</th>\n",
              "      <td>Santiago</td>\n",
              "      <td>tratamiento_b</td>\n",
              "      <td>15</td>\n",
              "    </tr>\n",
              "    <tr>\n",
              "      <th>8</th>\n",
              "      <td>Lili</td>\n",
              "      <td>tratamiento_b</td>\n",
              "      <td>7</td>\n",
              "    </tr>\n",
              "    <tr>\n",
              "      <th>9</th>\n",
              "      <td>Rosalia</td>\n",
              "      <td>tratamiento_b</td>\n",
              "      <td>9</td>\n",
              "    </tr>\n",
              "  </tbody>\n",
              "</table>\n",
              "</div>"
            ],
            "text/plain": [
              "   paciente    tratamiento  resultado\n",
              "0  Fernando  tratamiento_a         25\n",
              "1   Alfonso  tratamiento_a          5\n",
              "2  Santiago  tratamiento_a          6\n",
              "3      Lili  tratamiento_a         89\n",
              "4   Rosalia  tratamiento_a         10\n",
              "5  Fernando  tratamiento_b          0\n",
              "6   Alfonso  tratamiento_b         17\n",
              "7  Santiago  tratamiento_b         15\n",
              "8      Lili  tratamiento_b          7\n",
              "9   Rosalia  tratamiento_b          9"
            ]
          },
          "metadata": {
            "tags": []
          },
          "execution_count": 11
        }
      ]
    },
    {
      "cell_type": "markdown",
      "metadata": {
        "id": "RHJHhTOmXEdS",
        "colab_type": "text"
      },
      "source": [
        "# Tarea\n"
      ]
    },
    {
      "cell_type": "markdown",
      "metadata": {
        "id": "1EDZpeOWaIx1",
        "colab_type": "text"
      },
      "source": [
        "### La clinica del ejemplo anterior te contacta de nuevo con una nueva serie de datos. Esta vez para manetener el anonimato los nombres son cambiados para por ids numericos que representan a un paciente unico. Cada paciente pudo haber recibido los tratamientos varias veces. En caso de tener el valor de -1 en tratamiento_a o tratamiento_b implica que el tratamiento no se realizo."
      ]
    },
    {
      "cell_type": "code",
      "metadata": {
        "id": "kIWETIbFXHOi",
        "colab_type": "code",
        "colab": {
          "base_uri": "https://localhost:8080/",
          "height": 244
        },
        "outputId": "e45e318a-1ba9-4e73-9ca1-47973af0d198"
      },
      "source": [
        "# Generamos los nuevos datos\n",
        "np.random.seed(100)\n",
        "n = 1000\n",
        "id_paciente = np.random.randint(1000, size=n) \n",
        "tratamiento_a = np.random.randint(low=10, high=100, size=n) \n",
        "tratamiento_b = np.random.randint(low=15, high=90, size=n) \n",
        "\n",
        "\n",
        "data_dict_pacientes = {\n",
        "    'paciente':id_paciente,\n",
        "    'tratamiento_a':tratamiento_a,\n",
        "    'tratamiento_b': tratamiento_b\n",
        "}\n",
        "\n",
        "df_pacientes = pd.DataFrame.from_dict(data_dict_pacientes)\n",
        "df_pacientes['tratamiento_a'] = df_pacientes['tratamiento_a'].apply(\n",
        "    lambda x: x if x>15 else -1)\n",
        "df_pacientes['tratamiento_b'] = df_pacientes['tratamiento_b'].apply(\n",
        "    lambda x: -1 if x>80 else x) \n",
        "\n",
        "df_pacientes.head()"
      ],
      "execution_count": 12,
      "outputs": [
        {
          "output_type": "execute_result",
          "data": {
            "text/html": [
              "<div>\n",
              "<style scoped>\n",
              "    .dataframe tbody tr th:only-of-type {\n",
              "        vertical-align: middle;\n",
              "    }\n",
              "\n",
              "    .dataframe tbody tr th {\n",
              "        vertical-align: top;\n",
              "    }\n",
              "\n",
              "    .dataframe thead th {\n",
              "        text-align: right;\n",
              "    }\n",
              "</style>\n",
              "<table border=\"1\" class=\"dataframe\">\n",
              "  <thead>\n",
              "    <tr style=\"text-align: right;\">\n",
              "      <th></th>\n",
              "      <th>paciente</th>\n",
              "      <th>tratamiento_a</th>\n",
              "      <th>tratamiento_b</th>\n",
              "    </tr>\n",
              "  </thead>\n",
              "  <tbody>\n",
              "    <tr>\n",
              "      <th>0</th>\n",
              "      <td>520</td>\n",
              "      <td>19</td>\n",
              "      <td>60</td>\n",
              "    </tr>\n",
              "    <tr>\n",
              "      <th>1</th>\n",
              "      <td>792</td>\n",
              "      <td>45</td>\n",
              "      <td>-1</td>\n",
              "    </tr>\n",
              "    <tr>\n",
              "      <th>2</th>\n",
              "      <td>835</td>\n",
              "      <td>79</td>\n",
              "      <td>33</td>\n",
              "    </tr>\n",
              "    <tr>\n",
              "      <th>3</th>\n",
              "      <td>871</td>\n",
              "      <td>94</td>\n",
              "      <td>64</td>\n",
              "    </tr>\n",
              "    <tr>\n",
              "      <th>4</th>\n",
              "      <td>855</td>\n",
              "      <td>64</td>\n",
              "      <td>38</td>\n",
              "    </tr>\n",
              "  </tbody>\n",
              "</table>\n",
              "</div>"
            ],
            "text/plain": [
              "   paciente  tratamiento_a  tratamiento_b\n",
              "0       520             19             60\n",
              "1       792             45             -1\n",
              "2       835             79             33\n",
              "3       871             94             64\n",
              "4       855             64             38"
            ]
          },
          "metadata": {
            "tags": []
          },
          "execution_count": 12
        }
      ]
    },
    {
      "cell_type": "markdown",
      "metadata": {
        "id": "SaVnzZs2Z2T-",
        "colab_type": "text"
      },
      "source": [
        "### Realiza los siguientes ejercicios y responde las siguientes preguntas con los datos de df_pacientes.\n",
        "\n",
        "1.- Pon en formato tidy la tabla \"df_pacientes\".  \n",
        "\n",
        "2.- Elimina aquellas observaciones de tratamientos no realizados, es decir tratamientos con valor de -1.\n",
        "\n"
      ]
    },
    {
      "cell_type": "code",
      "metadata": {
        "id": "wRB1vyYec00t",
        "colab_type": "code",
        "colab": {
          "base_uri": "https://localhost:8080/",
          "height": 244
        },
        "outputId": "32361857-8a56-4adf-ea32-257c29570f04"
      },
      "source": [
        "# Transforma la tabla df_pacientes a formato tidy y elimina los tratamientos \n",
        "#con resultado -1, si tienes dudas revisa el ejemplo anterior.\n",
        "\n",
        "df_pacientes.head()"
      ],
      "execution_count": 13,
      "outputs": [
        {
          "output_type": "execute_result",
          "data": {
            "text/html": [
              "<div>\n",
              "<style scoped>\n",
              "    .dataframe tbody tr th:only-of-type {\n",
              "        vertical-align: middle;\n",
              "    }\n",
              "\n",
              "    .dataframe tbody tr th {\n",
              "        vertical-align: top;\n",
              "    }\n",
              "\n",
              "    .dataframe thead th {\n",
              "        text-align: right;\n",
              "    }\n",
              "</style>\n",
              "<table border=\"1\" class=\"dataframe\">\n",
              "  <thead>\n",
              "    <tr style=\"text-align: right;\">\n",
              "      <th></th>\n",
              "      <th>paciente</th>\n",
              "      <th>tratamiento_a</th>\n",
              "      <th>tratamiento_b</th>\n",
              "    </tr>\n",
              "  </thead>\n",
              "  <tbody>\n",
              "    <tr>\n",
              "      <th>0</th>\n",
              "      <td>520</td>\n",
              "      <td>19</td>\n",
              "      <td>60</td>\n",
              "    </tr>\n",
              "    <tr>\n",
              "      <th>1</th>\n",
              "      <td>792</td>\n",
              "      <td>45</td>\n",
              "      <td>-1</td>\n",
              "    </tr>\n",
              "    <tr>\n",
              "      <th>2</th>\n",
              "      <td>835</td>\n",
              "      <td>79</td>\n",
              "      <td>33</td>\n",
              "    </tr>\n",
              "    <tr>\n",
              "      <th>3</th>\n",
              "      <td>871</td>\n",
              "      <td>94</td>\n",
              "      <td>64</td>\n",
              "    </tr>\n",
              "    <tr>\n",
              "      <th>4</th>\n",
              "      <td>855</td>\n",
              "      <td>64</td>\n",
              "      <td>38</td>\n",
              "    </tr>\n",
              "  </tbody>\n",
              "</table>\n",
              "</div>"
            ],
            "text/plain": [
              "   paciente  tratamiento_a  tratamiento_b\n",
              "0       520             19             60\n",
              "1       792             45             -1\n",
              "2       835             79             33\n",
              "3       871             94             64\n",
              "4       855             64             38"
            ]
          },
          "metadata": {
            "tags": []
          },
          "execution_count": 13
        }
      ]
    },
    {
      "cell_type": "markdown",
      "metadata": {
        "id": "c7uyHrS_dGpu",
        "colab_type": "text"
      },
      "source": [
        "##### 1 Cuantos pacientes recibieron el tratamiento a y b por lo menos una vez?"
      ]
    },
    {
      "cell_type": "code",
      "metadata": {
        "id": "Z-DJrxVsdKC6",
        "colab_type": "code",
        "colab": {}
      },
      "source": [
        "# Respuesta 1\n",
        "\n"
      ],
      "execution_count": 14,
      "outputs": []
    },
    {
      "cell_type": "markdown",
      "metadata": {
        "id": "eo4tYzwnagU5",
        "colab_type": "text"
      },
      "source": [
        "##### 2 Cuantos pacientes recibieron el tratamiento \"A\" mas de 3 veces?"
      ]
    },
    {
      "cell_type": "code",
      "metadata": {
        "id": "JYDEDD1Rd1hz",
        "colab_type": "code",
        "colab": {}
      },
      "source": [
        "# Respuesta 2"
      ],
      "execution_count": 15,
      "outputs": []
    },
    {
      "cell_type": "markdown",
      "metadata": {
        "id": "H9yZqIuad_mq",
        "colab_type": "text"
      },
      "source": [
        "##### 3 Cuales son las dimensiones de los datos en formato tidy, despues de limpiar los -1? Puedes ver el resultado con el atributo .shape"
      ]
    },
    {
      "cell_type": "code",
      "metadata": {
        "id": "chslbQvTeUhZ",
        "colab_type": "code",
        "colab": {}
      },
      "source": [
        "#.shape"
      ],
      "execution_count": 16,
      "outputs": []
    }
  ]
}